{
 "cells": [
  {
   "cell_type": "code",
   "execution_count": 1,
   "metadata": {},
   "outputs": [],
   "source": [
    "# Importing libraries and initial configs\n",
    "import pandas as pd\n",
    "import numpy as np\n",
    "\n",
    "pd.set_option(\"display.max_columns\", 100, \"display.max_rows\", 100)\n"
   ]
  },
  {
   "cell_type": "markdown",
   "metadata": {},
   "source": [
    "### Case Study #2"
   ]
  },
  {
   "cell_type": "code",
   "execution_count": 2,
   "metadata": {},
   "outputs": [],
   "source": [
    "df = pd.read_csv(\"./data/casestudy.csv\").iloc[:, 1:]\n"
   ]
  },
  {
   "cell_type": "code",
   "execution_count": 3,
   "metadata": {},
   "outputs": [
    {
     "data": {
      "text/html": [
       "<div>\n",
       "<style scoped>\n",
       "    .dataframe tbody tr th:only-of-type {\n",
       "        vertical-align: middle;\n",
       "    }\n",
       "\n",
       "    .dataframe tbody tr th {\n",
       "        vertical-align: top;\n",
       "    }\n",
       "\n",
       "    .dataframe thead th {\n",
       "        text-align: right;\n",
       "    }\n",
       "</style>\n",
       "<table border=\"1\" class=\"dataframe\">\n",
       "  <thead>\n",
       "    <tr style=\"text-align: right;\">\n",
       "      <th></th>\n",
       "      <th>customer_email</th>\n",
       "      <th>net_revenue</th>\n",
       "      <th>year</th>\n",
       "    </tr>\n",
       "  </thead>\n",
       "  <tbody>\n",
       "    <tr>\n",
       "      <th>0</th>\n",
       "      <td>nhknapwsbx@gmail.com</td>\n",
       "      <td>249.92</td>\n",
       "      <td>2015</td>\n",
       "    </tr>\n",
       "    <tr>\n",
       "      <th>1</th>\n",
       "      <td>joiuzbvcpn@gmail.com</td>\n",
       "      <td>87.61</td>\n",
       "      <td>2015</td>\n",
       "    </tr>\n",
       "    <tr>\n",
       "      <th>2</th>\n",
       "      <td>ukkjctepxt@gmail.com</td>\n",
       "      <td>168.38</td>\n",
       "      <td>2015</td>\n",
       "    </tr>\n",
       "    <tr>\n",
       "      <th>3</th>\n",
       "      <td>gykatilzrt@gmail.com</td>\n",
       "      <td>62.40</td>\n",
       "      <td>2015</td>\n",
       "    </tr>\n",
       "    <tr>\n",
       "      <th>4</th>\n",
       "      <td>mmsgsrtxah@gmail.com</td>\n",
       "      <td>43.08</td>\n",
       "      <td>2015</td>\n",
       "    </tr>\n",
       "  </tbody>\n",
       "</table>\n",
       "</div>"
      ],
      "text/plain": [
       "          customer_email  net_revenue  year\n",
       "0   nhknapwsbx@gmail.com       249.92  2015\n",
       "1   joiuzbvcpn@gmail.com        87.61  2015\n",
       "2   ukkjctepxt@gmail.com       168.38  2015\n",
       "3   gykatilzrt@gmail.com        62.40  2015\n",
       "4   mmsgsrtxah@gmail.com        43.08  2015"
      ]
     },
     "execution_count": 3,
     "metadata": {},
     "output_type": "execute_result"
    }
   ],
   "source": [
    "df.head()\n"
   ]
  },
  {
   "cell_type": "code",
   "execution_count": 4,
   "metadata": {},
   "outputs": [
    {
     "data": {
      "text/plain": [
       "(685927, 3)"
      ]
     },
     "execution_count": 4,
     "metadata": {},
     "output_type": "execute_result"
    }
   ],
   "source": [
    "df.shape\n"
   ]
  },
  {
   "cell_type": "code",
   "execution_count": 5,
   "metadata": {},
   "outputs": [
    {
     "data": {
      "text/plain": [
       "False"
      ]
     },
     "execution_count": 5,
     "metadata": {},
     "output_type": "execute_result"
    }
   ],
   "source": [
    "df.duplicated([\"customer_email\", \"year\"]).any()\n"
   ]
  },
  {
   "cell_type": "markdown",
   "metadata": {},
   "source": [
    "#### Total revenue for the current year"
   ]
  },
  {
   "cell_type": "code",
   "execution_count": 6,
   "metadata": {},
   "outputs": [
    {
     "data": {
      "text/plain": [
       "year\n",
       "2015    29036749.19\n",
       "2016    25730943.59\n",
       "2017    31417495.03\n",
       "Name: net_revenue, dtype: float64"
      ]
     },
     "execution_count": 6,
     "metadata": {},
     "output_type": "execute_result"
    }
   ],
   "source": [
    "df.groupby(\"year\")[\"net_revenue\"].sum()\n"
   ]
  },
  {
   "cell_type": "markdown",
   "metadata": {},
   "source": [
    "#### New Customer Revenue e.g. new customers not present in previous year only"
   ]
  },
  {
   "cell_type": "code",
   "execution_count": 7,
   "metadata": {},
   "outputs": [],
   "source": [
    "def calc_new_rev(prev_year, curr_year):\n",
    "    \"\"\"\n",
    "    Calculates net revenue for new customers, not present in previous year\n",
    "        Inputs:\n",
    "            prev_year: Previous year\n",
    "            curr_year: Current year\n",
    "        Output:\n",
    "            Net revenue for new customers in current year\n",
    "    \"\"\"\n",
    "    cust_prev = set(df.loc[df[\"year\"] == prev_year][\"customer_email\"])\n",
    "    cust_curr = set(df.loc[df[\"year\"] == curr_year][\"customer_email\"])\n",
    "    new_cust = cust_curr.difference(cust_prev)\n",
    "    return df.iloc[\n",
    "        np.where(\n",
    "            np.logical_and(df[\"customer_email\"].isin(new_cust), df[\"year\"] == curr_year)\n",
    "        )[0],\n",
    "        :,\n",
    "    ][\"net_revenue\"].sum()\n"
   ]
  },
  {
   "cell_type": "code",
   "execution_count": 8,
   "metadata": {},
   "outputs": [
    {
     "name": "stdout",
     "output_type": "stream",
     "text": [
      "The net revenue from new customers in 2016 not present in 2015 is : 18245491.01\n",
      "The net revenue from new customers in 2017 not present in 2016 is : 28776235.04\n"
     ]
    }
   ],
   "source": [
    "for (i, j) in zip(range(2015, 2017), range(2016, 2018)):\n",
    "    print(\n",
    "        \"The net revenue from new customers in {} not present in {} is : {:.2f}\".format(\n",
    "            j, i, calc_new_rev(i, j)\n",
    "        )\n",
    "    )\n"
   ]
  },
  {
   "cell_type": "markdown",
   "metadata": {},
   "source": [
    "#### Existing Customer Growth. To calculate this, use the Revenue of existing customers for current year –(minus) Revenue of existing customers from the previous year"
   ]
  },
  {
   "cell_type": "code",
   "execution_count": 9,
   "metadata": {},
   "outputs": [],
   "source": [
    "def calc_exist_rev(curr_year, prev_year):\n",
    "    \"\"\"\n",
    "    Calculates growth in revenue for existing customers in current year from previous year\n",
    "        Inputs:\n",
    "            curr_year: Current year\n",
    "            prev_year: Previous year\n",
    "        Output:\n",
    "            Growth in revenue for existing customers in current year from previous year\n",
    "    \"\"\"\n",
    "    cust_curr = set(df.loc[df[\"year\"] == curr_year][\"customer_email\"])\n",
    "    cust_prev = set(df.loc[df[\"year\"] == prev_year][\"customer_email\"])\n",
    "    exist_cust = cust_prev.intersection(cust_curr)\n",
    "\n",
    "    return (\n",
    "        df.iloc[\n",
    "            np.where(\n",
    "                np.logical_and(\n",
    "                    df[\"customer_email\"].isin(exist_cust), df[\"year\"] == curr_year\n",
    "                )\n",
    "            )[0],\n",
    "            :,\n",
    "        ][\"net_revenue\"].sum()\n",
    "        - df.iloc[\n",
    "            np.where(\n",
    "                np.logical_and(\n",
    "                    df[\"customer_email\"].isin(exist_cust), df[\"year\"] == prev_year\n",
    "                )\n",
    "            )[0],\n",
    "            :,\n",
    "        ][\"net_revenue\"].sum()\n",
    "    )\n"
   ]
  },
  {
   "cell_type": "code",
   "execution_count": 10,
   "metadata": {},
   "outputs": [
    {
     "name": "stdout",
     "output_type": "stream",
     "text": [
      "The net revenue in 2016 from existing customers in 2015 is : 20335.46\n",
      "The net revenue in 2017 from existing customers in 2016 is : 20611.34\n"
     ]
    }
   ],
   "source": [
    "for (i, j) in zip(range(2015, 2017), range(2016, 2018)):\n",
    "    print(\n",
    "        \"The net revenue in {} from existing customers in {} is : {:.2f}\".format(\n",
    "            j, i, calc_exist_rev(j, i)\n",
    "        )\n",
    "    )\n"
   ]
  },
  {
   "cell_type": "markdown",
   "metadata": {},
   "source": [
    "#### Revenue lost from attrition"
   ]
  },
  {
   "cell_type": "code",
   "execution_count": 11,
   "metadata": {},
   "outputs": [],
   "source": [
    "def calc_att_rev(curr_year, prev_year):\n",
    "    \"\"\"\n",
    "    Calculates revenue lost from attrition in current year from previous year\n",
    "        Inputs:\n",
    "            curr_year: Current year\n",
    "            prev_year: Previous year\n",
    "        Output:\n",
    "            Revenue lost from attrition in current year\n",
    "    \"\"\"\n",
    "    cust_curr = set(df.loc[df[\"year\"] == curr_year][\"customer_email\"])\n",
    "    cust_prev = set(df.loc[df[\"year\"] == prev_year][\"customer_email\"])\n",
    "    exist_cust = cust_prev.difference(cust_curr)\n",
    "\n",
    "    return df.iloc[\n",
    "        np.where(\n",
    "            np.logical_and(\n",
    "                df[\"customer_email\"].isin(exist_cust), df[\"year\"] == prev_year\n",
    "            )\n",
    "        )[0],\n",
    "        :,\n",
    "    ][\"net_revenue\"].sum()\n"
   ]
  },
  {
   "cell_type": "code",
   "execution_count": 12,
   "metadata": {},
   "outputs": [
    {
     "name": "stdout",
     "output_type": "stream",
     "text": [
      "The revenue lost from attrition in 2016 is : 21571632.07\n",
      "The revenue lost from attrition in 2017 is : 23110294.94\n"
     ]
    }
   ],
   "source": [
    "for (i, j) in zip(range(2015, 2017), range(2016, 2018)):\n",
    "    print(\n",
    "        \"The revenue lost from attrition in {} is : {:.2f}\".format(\n",
    "            j, calc_att_rev(j, i)\n",
    "        )\n",
    "    )\n"
   ]
  },
  {
   "cell_type": "markdown",
   "metadata": {},
   "source": [
    "#### Existing Customer Revenue Current Year"
   ]
  },
  {
   "cell_type": "code",
   "execution_count": 13,
   "metadata": {},
   "outputs": [],
   "source": [
    "def calc_exist_rev_current(curr_year, prev_year):\n",
    "    \"\"\"\n",
    "    Calculates revenue for existing customers in current year\n",
    "        Inputs:\n",
    "            curr_year: Current year\n",
    "            prev_year: Previous year\n",
    "        Output:\n",
    "            Revenue for existing customers in current year\n",
    "    \"\"\"\n",
    "    cust_curr = set(df.loc[df[\"year\"] == curr_year][\"customer_email\"])\n",
    "    cust_prev = set(df.loc[df[\"year\"] == prev_year][\"customer_email\"])\n",
    "    exist_cust = cust_prev.intersection(cust_curr)\n",
    "\n",
    "    return df.iloc[\n",
    "        np.where(\n",
    "            np.logical_and(\n",
    "                df[\"customer_email\"].isin(exist_cust), df[\"year\"] == curr_year\n",
    "            )\n",
    "        )[0],\n",
    "        :,\n",
    "    ][\"net_revenue\"].sum()\n"
   ]
  },
  {
   "cell_type": "code",
   "execution_count": 14,
   "metadata": {},
   "outputs": [
    {
     "name": "stdout",
     "output_type": "stream",
     "text": [
      "The revenue from existing customers in 2016 is : 7485452.58\n",
      "The revenue from existing customers in 2017 is : 2641259.99\n"
     ]
    }
   ],
   "source": [
    "for (i, j) in zip(range(2015, 2017), range(2016, 2018)):\n",
    "    print(\n",
    "        \"The revenue from existing customers in {} is : {:.2f}\".format(\n",
    "            j, calc_exist_rev_current(j, i)\n",
    "        )\n",
    "    )\n"
   ]
  },
  {
   "cell_type": "markdown",
   "metadata": {},
   "source": [
    "#### Existing Customer Revenue Prior Year"
   ]
  },
  {
   "cell_type": "code",
   "execution_count": 15,
   "metadata": {},
   "outputs": [],
   "source": [
    "def calc_exist_rev_prev(curr_year, prev_year):\n",
    "    \"\"\"\n",
    "    Calculates revenue for existing customers in previous year\n",
    "        Inputs:\n",
    "            curr_year: Current year\n",
    "            prev_year: Previous year\n",
    "        Output:\n",
    "            Revenue for existing customers in previous year\n",
    "    \"\"\"\n",
    "    cust_curr = set(df.loc[df[\"year\"] == curr_year][\"customer_email\"])\n",
    "    cust_prev = set(df.loc[df[\"year\"] == prev_year][\"customer_email\"])\n",
    "    exist_cust = cust_prev.intersection(cust_curr)\n",
    "\n",
    "    return df.iloc[\n",
    "        np.where(\n",
    "            np.logical_and(\n",
    "                df[\"customer_email\"].isin(exist_cust), df[\"year\"] == prev_year\n",
    "            )\n",
    "        )[0],\n",
    "        :,\n",
    "    ][\"net_revenue\"].sum()\n"
   ]
  },
  {
   "cell_type": "code",
   "execution_count": 16,
   "metadata": {},
   "outputs": [
    {
     "name": "stdout",
     "output_type": "stream",
     "text": [
      "The revenue from existing customers in 2015 is : 7465117.12\n",
      "The revenue from existing customers in 2016 is : 2620648.65\n"
     ]
    }
   ],
   "source": [
    "for (i, j) in zip(range(2015, 2017), range(2016, 2018)):\n",
    "    print(\n",
    "        \"The revenue from existing customers in {} is : {:.2f}\".format(\n",
    "            i, calc_exist_rev_prev(j, i)\n",
    "        )\n",
    "    )\n"
   ]
  },
  {
   "cell_type": "markdown",
   "metadata": {},
   "source": [
    "#### Total Customers Current Year"
   ]
  },
  {
   "cell_type": "code",
   "execution_count": 17,
   "metadata": {},
   "outputs": [],
   "source": [
    "def calc_cust_curr(curr_year):\n",
    "    \"\"\"\n",
    "    Calculates number of customers in current year\n",
    "        Inputs:\n",
    "            curr_year: Current year\n",
    "    \"\"\"\n",
    "    cust_curr = set(df.loc[df[\"year\"] == curr_year][\"customer_email\"])\n",
    "\n",
    "    return len(cust_curr)\n"
   ]
  },
  {
   "cell_type": "code",
   "execution_count": 18,
   "metadata": {},
   "outputs": [
    {
     "name": "stdout",
     "output_type": "stream",
     "text": [
      "The number of customers in 2015 is : 231,294\n",
      "The number of customers in 2016 is : 204,646\n",
      "The number of customers in 2017 is : 249,987\n"
     ]
    }
   ],
   "source": [
    "for i in [2015, 2016, 2017]:\n",
    "    print(\"The number of customers in {} is : {:,}\".format(i, calc_cust_curr(i)))\n"
   ]
  },
  {
   "cell_type": "markdown",
   "metadata": {},
   "source": [
    "#### Total Customers Previous Year"
   ]
  },
  {
   "cell_type": "code",
   "execution_count": 19,
   "metadata": {},
   "outputs": [],
   "source": [
    "def calc_cust_prev(curr_year):\n",
    "    \"\"\"\n",
    "    Calculates number of customers in previous year\n",
    "        Inputs:\n",
    "            curr_year: Current year\n",
    "    \"\"\"\n",
    "    if curr_year == 2015:\n",
    "        return 0\n",
    "    else:\n",
    "        cust_prev = set(df.loc[df[\"year\"] == curr_year - 1][\"customer_email\"])\n",
    "\n",
    "    return len(cust_prev)\n"
   ]
  },
  {
   "cell_type": "code",
   "execution_count": 20,
   "metadata": {},
   "outputs": [
    {
     "name": "stdout",
     "output_type": "stream",
     "text": [
      "Current year is 2015, number of customers in the previous year is : 0\n",
      "Current year is 2016, number of customers in the previous year 2015 is : 231,294\n",
      "Current year is 2017, number of customers in the previous year 2016 is : 204,646\n"
     ]
    }
   ],
   "source": [
    "for i in [2015, 2016, 2017]:\n",
    "    if i == 2015:\n",
    "        print(\n",
    "            \"Current year is {}, number of customers in the previous year is : {:,}\".format(\n",
    "                i, calc_cust_prev(i)\n",
    "            )\n",
    "        )\n",
    "    else:\n",
    "        print(\n",
    "            \"Current year is {}, number of customers in the previous year {} is : {:,}\".format(\n",
    "                i, i - 1, calc_cust_prev(i)\n",
    "            )\n",
    "        )\n"
   ]
  },
  {
   "cell_type": "markdown",
   "metadata": {},
   "source": [
    "#### New Customers"
   ]
  },
  {
   "cell_type": "code",
   "execution_count": 21,
   "metadata": {},
   "outputs": [],
   "source": [
    "def calc_new_cust(prev_year, curr_year):\n",
    "    \"\"\"\n",
    "    Calculates new customers in current year compared to previous year\n",
    "        Inputs:\n",
    "            prev_year: Previous year\n",
    "            curr_year: Current year\n",
    "        Output:\n",
    "            Net revenue for new customers in current year\n",
    "    \"\"\"\n",
    "    cust_prev = set(df.loc[df[\"year\"] == prev_year][\"customer_email\"])\n",
    "    cust_curr = set(df.loc[df[\"year\"] == curr_year][\"customer_email\"])\n",
    "    new_cust = cust_curr.difference(cust_prev)\n",
    "    return len(new_cust)\n"
   ]
  },
  {
   "cell_type": "code",
   "execution_count": 22,
   "metadata": {},
   "outputs": [
    {
     "name": "stdout",
     "output_type": "stream",
     "text": [
      "The number of new customers in 2016 compared to 2015 is : 145062.00\n",
      "The number of new customers in 2017 compared to 2016 is : 229028.00\n"
     ]
    }
   ],
   "source": [
    "for (i, j) in zip(range(2015, 2017), range(2016, 2018)):\n",
    "    print(\n",
    "        \"The number of new customers in {} compared to {} is : {:.2f}\".format(\n",
    "            j, i, calc_new_cust(i, j)\n",
    "        )\n",
    "    )\n"
   ]
  },
  {
   "cell_type": "markdown",
   "metadata": {},
   "source": [
    "#### Lost Customers"
   ]
  },
  {
   "cell_type": "code",
   "execution_count": 23,
   "metadata": {},
   "outputs": [],
   "source": [
    "def calc_att_cust(curr_year, prev_year):\n",
    "    \"\"\"\n",
    "    Calculates number of customers attrited in current year from previous year\n",
    "        Inputs:\n",
    "            curr_year: Current year\n",
    "            prev_year: Previous year\n",
    "    \"\"\"\n",
    "    cust_curr = set(df.loc[df[\"year\"] == curr_year][\"customer_email\"])\n",
    "    cust_prev = set(df.loc[df[\"year\"] == prev_year][\"customer_email\"])\n",
    "    exist_cust = cust_prev.difference(cust_curr)\n",
    "\n",
    "    return len(exist_cust)\n"
   ]
  },
  {
   "cell_type": "code",
   "execution_count": 24,
   "metadata": {},
   "outputs": [
    {
     "name": "stdout",
     "output_type": "stream",
     "text": [
      "The number of customers attrited in 2016 from 2015 is : 145062.00\n",
      "The number of customers attrited in 2017 from 2016 is : 229028.00\n"
     ]
    }
   ],
   "source": [
    "for (i, j) in zip(range(2015, 2017), range(2016, 2018)):\n",
    "    print(\n",
    "        \"The number of customers attrited in {} from {} is : {:.2f}\".format(\n",
    "            j, i, calc_att_cust(i, j)\n",
    "        )\n",
    "    )\n"
   ]
  }
 ],
 "metadata": {
  "kernelspec": {
   "display_name": "Python 3",
   "language": "python",
   "name": "python3"
  },
  "language_info": {
   "codemirror_mode": {
    "name": "ipython",
    "version": 3
   },
   "file_extension": ".py",
   "mimetype": "text/x-python",
   "name": "python",
   "nbconvert_exporter": "python",
   "pygments_lexer": "ipython3",
   "version": "3.9.6"
  },
  "nteract": {
   "version": "0.28.0"
  },
  "varInspector": {
   "cols": {
    "lenName": 16,
    "lenType": 16,
    "lenVar": 40
   },
   "kernels_config": {
    "python": {
     "delete_cmd_postfix": "",
     "delete_cmd_prefix": "del ",
     "library": "var_list.py",
     "varRefreshCmd": "print(var_dic_list())"
    },
    "r": {
     "delete_cmd_postfix": ") ",
     "delete_cmd_prefix": "rm(",
     "library": "var_list.r",
     "varRefreshCmd": "cat(var_dic_list()) "
    }
   },
   "position": {
    "height": "643px",
    "left": "1548px",
    "right": "20px",
    "top": "121px",
    "width": "350px"
   },
   "types_to_exclude": [
    "module",
    "function",
    "builtin_function_or_method",
    "instance",
    "_Feature"
   ],
   "window_display": true
  }
 },
 "nbformat": 4,
 "nbformat_minor": 2
}
